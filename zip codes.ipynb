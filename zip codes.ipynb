{
 "cells": [
  {
   "cell_type": "code",
   "execution_count": 100,
   "metadata": {},
   "outputs": [],
   "source": [
    "import pandas as pd\n",
    "import urllib\n",
    "import json\n"
   ]
  },
  {
   "cell_type": "code",
   "execution_count": 101,
   "metadata": {},
   "outputs": [],
   "source": [
    "#Get series of stations\n",
    "df = pd.read_csv('http://web.mta.info/developers/data/nyct/turnstile/turnstile_190629.txt', usecols=['STATION'])\n",
    "stations = df['STATION'].unique()\n"
   ]
  },
  {
   "cell_type": "code",
   "execution_count": 102,
   "metadata": {},
   "outputs": [],
   "source": [
    "#Google maps url and api key for calling maps API\n",
    "gm_url = 'https://maps.googleapis.com/maps/api/geocode/json?'\n",
    "api_key = 'Get your own!'\n"
   ]
  },
  {
   "cell_type": "code",
   "execution_count": 103,
   "metadata": {},
   "outputs": [],
   "source": [
    "#Make df with stations as label, zip as column, use empty string for now\n",
    "#This is what get turned into a csv\n",
    "zip_codes = pd.DataFrame(data=stations, columns = ['STATION']).set_index('STATION')\n",
    "zip_codes['ZIP'] = ''\n"
   ]
  },
  {
   "cell_type": "code",
   "execution_count": 104,
   "metadata": {},
   "outputs": [
    {
     "name": "stdout",
     "output_type": "stream",
     "text": [
      "CONEY IS-STILLW\n",
      "HOWARD BCH JFK\n",
      "MYRTLE AV\n",
      "BROADWAY JCT\n",
      "KEW GARDENS\n",
      "JAMAICA CENTER\n",
      "GRD CNTRL-42 ST\n",
      "CENTRAL PK N110\n",
      "NEREID AV\n",
      "E 149 ST\n"
     ]
    }
   ],
   "source": [
    "for station in stations:    \n",
    "    try:\n",
    "        #Make url for calling GM API\n",
    "        search = {'address': station + ' station, New York, NY', 'key' : api_key}\n",
    "        url = gm_url + urllib.parse.urlencode(search)\n",
    "        \n",
    "        #Call the API and put into JSON\n",
    "        data = urllib.request.urlopen(url).read()\n",
    "        js = json.loads(data)\n",
    "        \n",
    "        #Select out the data we want  \n",
    "        dicts = js['results'][0]['address_components'] #This is where an exception can happen\n",
    "        zip_dict = {}\n",
    "        for d in dicts:\n",
    "            if d['types'] == ['postal_code']:\n",
    "                zip_dict = d\n",
    "                break\n",
    "        zip_code = zip_dict['short_name']\n",
    "        #Put zip codes in dataframe\n",
    "        zip_codes.loc[station] = zip_code\n",
    "    except:\n",
    "        #Print out the stations we cant get zip codes for using the API, because of the way the name is formatted\n",
    "        print(station)"
   ]
  },
  {
   "cell_type": "code",
   "execution_count": 105,
   "metadata": {},
   "outputs": [],
   "source": [
    "#Manually fix stations we couldn't get a zip code for\n",
    "manual_dict = {\n",
    "'CONEY IS-STILLW': '11224',\n",
    "'HOWARD BCH JFK':'11414' ,\n",
    "'MYRTLE AV':'11206' ,\n",
    "'BROADWAY JCT':'11207' ,\n",
    "'KEW GARDENS': '11415',\n",
    "'JAMAICA CENTER': '11432',\n",
    "'GRD CNTRL-42 ST': '10017',\n",
    "'CENTRAL PK N110':'10026' ,\n",
    "'NEREID AV':'10470' ,\n",
    "'E 149 ST': '10455'}\n",
    "for station, zipcode in manual_dict.items():\n",
    "    zip_codes.loc[station] = zip_code\n"
   ]
  },
  {
   "cell_type": "code",
   "execution_count": 106,
   "metadata": {},
   "outputs": [],
   "source": [
    "zip_codes.rename(columns={'STATION':'station','ZIP':'zip_code'}, inplace=True)\n"
   ]
  },
  {
   "cell_type": "code",
   "execution_count": 107,
   "metadata": {},
   "outputs": [
    {
     "data": {
      "text/html": [
       "<div>\n",
       "<style scoped>\n",
       "    .dataframe tbody tr th:only-of-type {\n",
       "        vertical-align: middle;\n",
       "    }\n",
       "\n",
       "    .dataframe tbody tr th {\n",
       "        vertical-align: top;\n",
       "    }\n",
       "\n",
       "    .dataframe thead th {\n",
       "        text-align: right;\n",
       "    }\n",
       "</style>\n",
       "<table border=\"1\" class=\"dataframe\">\n",
       "  <thead>\n",
       "    <tr style=\"text-align: right;\">\n",
       "      <th></th>\n",
       "      <th>zip_code</th>\n",
       "    </tr>\n",
       "    <tr>\n",
       "      <th>STATION</th>\n",
       "      <th></th>\n",
       "    </tr>\n",
       "  </thead>\n",
       "  <tbody>\n",
       "    <tr>\n",
       "      <th>59 ST</th>\n",
       "      <td>10065</td>\n",
       "    </tr>\n",
       "    <tr>\n",
       "      <th>5 AV/59 ST</th>\n",
       "      <td>10022</td>\n",
       "    </tr>\n",
       "    <tr>\n",
       "      <th>57 ST-7 AV</th>\n",
       "      <td>10106</td>\n",
       "    </tr>\n",
       "    <tr>\n",
       "      <th>49 ST</th>\n",
       "      <td>10019</td>\n",
       "    </tr>\n",
       "    <tr>\n",
       "      <th>TIMES SQ-42 ST</th>\n",
       "      <td>10018</td>\n",
       "    </tr>\n",
       "    <tr>\n",
       "      <th>...</th>\n",
       "      <td>...</td>\n",
       "    </tr>\n",
       "    <tr>\n",
       "      <th>EASTCHSTER/DYRE</th>\n",
       "      <td>10466</td>\n",
       "    </tr>\n",
       "    <tr>\n",
       "      <th>ST. GEORGE</th>\n",
       "      <td>10301</td>\n",
       "    </tr>\n",
       "    <tr>\n",
       "      <th>TOMPKINSVILLE</th>\n",
       "      <td>10304</td>\n",
       "    </tr>\n",
       "    <tr>\n",
       "      <th>RIT-MANHATTAN</th>\n",
       "      <td>10017</td>\n",
       "    </tr>\n",
       "    <tr>\n",
       "      <th>RIT-ROOSEVELT</th>\n",
       "      <td>10065</td>\n",
       "    </tr>\n",
       "  </tbody>\n",
       "</table>\n",
       "<p>378 rows × 1 columns</p>\n",
       "</div>"
      ],
      "text/plain": [
       "                zip_code\n",
       "STATION                 \n",
       "59 ST              10065\n",
       "5 AV/59 ST         10022\n",
       "57 ST-7 AV         10106\n",
       "49 ST              10019\n",
       "TIMES SQ-42 ST     10018\n",
       "...                  ...\n",
       "EASTCHSTER/DYRE    10466\n",
       "ST. GEORGE         10301\n",
       "TOMPKINSVILLE      10304\n",
       "RIT-MANHATTAN      10017\n",
       "RIT-ROOSEVELT      10065\n",
       "\n",
       "[378 rows x 1 columns]"
      ]
     },
     "execution_count": 107,
     "metadata": {},
     "output_type": "execute_result"
    }
   ],
   "source": [
    "zip_codes"
   ]
  },
  {
   "cell_type": "code",
   "execution_count": 99,
   "metadata": {},
   "outputs": [],
   "source": [
    "zip_codes.to_csv('zip_codes_new.csv', index=False)"
   ]
  },
  {
   "cell_type": "code",
   "execution_count": null,
   "metadata": {},
   "outputs": [],
   "source": []
  }
 ],
 "metadata": {
  "kernelspec": {
   "display_name": "Python [conda env:metis] *",
   "language": "python",
   "name": "conda-env-metis-py"
  },
  "language_info": {
   "codemirror_mode": {
    "name": "ipython",
    "version": 3
   },
   "file_extension": ".py",
   "mimetype": "text/x-python",
   "name": "python",
   "nbconvert_exporter": "python",
   "pygments_lexer": "ipython3",
   "version": "3.8.6"
  },
  "toc": {
   "base_numbering": 1,
   "nav_menu": {},
   "number_sections": true,
   "sideBar": true,
   "skip_h1_title": false,
   "title_cell": "Table of Contents",
   "title_sidebar": "Contents",
   "toc_cell": false,
   "toc_position": {},
   "toc_section_display": true,
   "toc_window_display": false
  },
  "varInspector": {
   "cols": {
    "lenName": 16,
    "lenType": 16,
    "lenVar": 40
   },
   "kernels_config": {
    "python": {
     "delete_cmd_postfix": "",
     "delete_cmd_prefix": "del ",
     "library": "var_list.py",
     "varRefreshCmd": "print(var_dic_list())"
    },
    "r": {
     "delete_cmd_postfix": ") ",
     "delete_cmd_prefix": "rm(",
     "library": "var_list.r",
     "varRefreshCmd": "cat(var_dic_list()) "
    }
   },
   "types_to_exclude": [
    "module",
    "function",
    "builtin_function_or_method",
    "instance",
    "_Feature"
   ],
   "window_display": false
  }
 },
 "nbformat": 4,
 "nbformat_minor": 4
}
